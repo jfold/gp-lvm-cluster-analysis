{
 "cells": [
  {
   "cell_type": "code",
   "execution_count": null,
   "metadata": {},
   "outputs": [],
   "source": [
    "from src.experiment import *\n",
    "from src.parameters import *\n",
    "\n",
    "tfd = tfp.distributions\n",
    "tfk = tfp.math.psd_kernels\n",
    "\n",
    "matplotlib.rcParams[\"mathtext.fontset\"] = \"cm\"\n",
    "matplotlib.rcParams[\"font.family\"] = \"STIXGeneral\"\n",
    "matplotlib.rcParams[\"axes.grid\"] = True\n",
    "matplotlib.rcParams[\"font.size\"] = 18\n",
    "matplotlib.rcParams[\"figure.figsize\"] = (12, 8)\n",
    "matplotlib.rcParams[\"savefig.bbox\"] = \"tight\"\n",
    "# plot-settings:\n",
    "ps = {\n",
    "    \"GP\": {\"c\": \"red\", \"m\": \"x\"},\n",
    "    \"RF\": {\"c\": \"blue\", \"m\": \"4\"},\n",
    "    \"BNN\": {\"c\": \"orange\", \"m\": \"v\"},\n",
    "    \"DS\": {\"c\": \"black\", \"m\": \"*\"},\n",
    "    \"DE\": {\"c\": \"mediumorchid\", \"m\": \"2\"},\n",
    "    \"RS\": {\"c\": \"palegreen\", \"m\": \"h\"},\n",
    "}\n",
    "# dataset = Dataset(Parameters({\"data_dim\":2, \"cluster_std\":0.1}))\n",
    "# plt.scatter(dataset.X[0,:],dataset.X[1,:],c=dataset.y)"
   ]
  },
  {
   "cell_type": "code",
   "execution_count": null,
   "metadata": {},
   "outputs": [],
   "source": [
    "parameters = Parameters({\"data_dim\":1000, \n",
    "\t\t\t\t\t\t\t\t\t\t\t\"cluster_std\":0.1,\n",
    "\t\t\t\t\t\t\t\t\t\t\t\"test\":True,\n",
    "\t\t\t\t\t\t\t\t\t\t\t\"seed\":10})\n",
    "experiment = Experiment(parameters)\n",
    "experiment.run()\n",
    "print(experiment.nmi)\n",
    "print(experiment.y_preds)\n",
    "print(experiment.model.y)\n",
    "experiment.plot_learning_curve()\n",
    "experiment.plot_latent_space()\n"
   ]
  },
  {
   "cell_type": "code",
   "execution_count": null,
   "metadata": {},
   "outputs": [],
   "source": [
    "seeds = list(range(20))\n",
    "dims = [10,20,30,40,50,60,70,80,90,100]\n",
    "data = np.full((len(seeds),len(dims)),np.nan)\n",
    "learning_curves = []\n",
    "for i_d,dim in enumerate(dims):\n",
    "\tfor i_s,seed in enumerate(seeds):\n",
    "\t\tparameters = Parameters({\"n_iterations\":1000, \n",
    "\t\t\t\t\t\t\t\t\t\t\t\t\t\t\"gplvm_learning_rate\":0.4,\n",
    "\t\t\t\t\t\t\t\t\t\t\t\t\t\t\"data_dim\":dim, \n",
    "\t\t\t\t\t\t\t\t\t\t\t\t\t\t\"n_train\":10, \n",
    "\t\t\t\t\t\t\t\t\t\t\t\t\t\t\"seed\":seed, \n",
    "\t\t\t\t\t\t\t\t\t\t\t\t\t\t# \"cluster_std\":1, \n",
    "\t\t\t\t\t\t\t\t\t\t\t\t\t\t\"gp_latent_init_pca\":False})\n",
    "\t\texperiment = Experiment(parameters)\n",
    "\t\texperiment.run()\n",
    "\t\tlearning_curves.append(experiment.model.loss_history)\n",
    "\t\tdata[i_s,i_d] = experiment.nmi\n",
    "\tprint(f\"dims:{dim}\")"
   ]
  },
  {
   "cell_type": "code",
   "execution_count": null,
   "metadata": {},
   "outputs": [],
   "source": [
    "data_max = np.max(data,axis=0)\n",
    "data_mean = np.mean(data,axis=0)\n",
    "data_std = np.std(data,axis=0)/np.sqrt(data.shape[0])\n",
    "fig = plt.figure()\n",
    "plt.plot(\n",
    "\t\tdims, data_max, \"--\", color=\"black\", label=r\"max\", linewidth=1,\n",
    ")\n",
    "plt.plot(\n",
    "\t\tdims, data_mean, \"--\", color=\"black\", label=r\"$\\mu$\", linewidth=1,\n",
    ")\n",
    "plt.fill_between(\n",
    "\t\tdims,\n",
    "\t\tdata_mean + data_std,\n",
    "\t\tdata_mean - data_std,\n",
    "\t\tcolor=\"blue\",\n",
    "\t\talpha=0.1,\n",
    "\t\tlabel=r\"$\\sigma$\",\n",
    ")\n",
    "plt.legend()\n",
    "# plt.xscale(\"log\")\n",
    "plt.show()"
   ]
  }
 ],
 "metadata": {
  "interpreter": {
   "hash": "ec63b00df97640358dc9c6b72bcb00746af5e466aec71cbdbcdc20ab3c51910b"
  },
  "kernelspec": {
   "display_name": "Python 3.9.4 ('ml')",
   "language": "python",
   "name": "python3"
  },
  "language_info": {
   "codemirror_mode": {
    "name": "ipython",
    "version": 3
   },
   "file_extension": ".py",
   "mimetype": "text/x-python",
   "name": "python",
   "nbconvert_exporter": "python",
   "pygments_lexer": "ipython3",
   "version": "3.9.4"
  },
  "orig_nbformat": 4
 },
 "nbformat": 4,
 "nbformat_minor": 2
}
